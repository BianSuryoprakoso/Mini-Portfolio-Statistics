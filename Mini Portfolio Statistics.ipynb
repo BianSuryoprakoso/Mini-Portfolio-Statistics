{
 "cells": [
  {
   "cell_type": "markdown",
   "id": "23760ecb-38a9-4666-b759-c407e485a574",
   "metadata": {},
   "source": [
    "Mini Portfolio Statistics"
   ]
  },
  {
   "cell_type": "markdown",
   "id": "12c8c12b-550b-4b93-948e-5c03831408ae",
   "metadata": {},
   "source": [
    "## Import Libraries and Dataset"
   ]
  },
  {
   "cell_type": "code",
   "execution_count": 2,
   "id": "2216043b-7cdb-47b7-9858-f8538d390d70",
   "metadata": {},
   "outputs": [
    {
     "data": {
      "text/html": [
       "<div>\n",
       "<style scoped>\n",
       "    .dataframe tbody tr th:only-of-type {\n",
       "        vertical-align: middle;\n",
       "    }\n",
       "\n",
       "    .dataframe tbody tr th {\n",
       "        vertical-align: top;\n",
       "    }\n",
       "\n",
       "    .dataframe thead th {\n",
       "        text-align: right;\n",
       "    }\n",
       "</style>\n",
       "<table border=\"1\" class=\"dataframe\">\n",
       "  <thead>\n",
       "    <tr style=\"text-align: right;\">\n",
       "      <th></th>\n",
       "      <th>Id</th>\n",
       "      <th>MSSubClass</th>\n",
       "      <th>MSZoning</th>\n",
       "      <th>LotFrontage</th>\n",
       "      <th>LotArea</th>\n",
       "      <th>Street</th>\n",
       "      <th>Alley</th>\n",
       "      <th>LotShape</th>\n",
       "      <th>LandContour</th>\n",
       "      <th>Utilities</th>\n",
       "      <th>...</th>\n",
       "      <th>PoolArea</th>\n",
       "      <th>PoolQC</th>\n",
       "      <th>Fence</th>\n",
       "      <th>MiscFeature</th>\n",
       "      <th>MiscVal</th>\n",
       "      <th>MoSold</th>\n",
       "      <th>YrSold</th>\n",
       "      <th>SaleType</th>\n",
       "      <th>SaleCondition</th>\n",
       "      <th>SalePrice</th>\n",
       "    </tr>\n",
       "  </thead>\n",
       "  <tbody>\n",
       "    <tr>\n",
       "      <th>0</th>\n",
       "      <td>1</td>\n",
       "      <td>60</td>\n",
       "      <td>RL</td>\n",
       "      <td>65.0</td>\n",
       "      <td>8450</td>\n",
       "      <td>Pave</td>\n",
       "      <td>NaN</td>\n",
       "      <td>Reg</td>\n",
       "      <td>Lvl</td>\n",
       "      <td>AllPub</td>\n",
       "      <td>...</td>\n",
       "      <td>0</td>\n",
       "      <td>NaN</td>\n",
       "      <td>NaN</td>\n",
       "      <td>NaN</td>\n",
       "      <td>0</td>\n",
       "      <td>2</td>\n",
       "      <td>2008</td>\n",
       "      <td>WD</td>\n",
       "      <td>Normal</td>\n",
       "      <td>208500</td>\n",
       "    </tr>\n",
       "    <tr>\n",
       "      <th>1</th>\n",
       "      <td>2</td>\n",
       "      <td>20</td>\n",
       "      <td>RL</td>\n",
       "      <td>80.0</td>\n",
       "      <td>9600</td>\n",
       "      <td>Pave</td>\n",
       "      <td>NaN</td>\n",
       "      <td>Reg</td>\n",
       "      <td>Lvl</td>\n",
       "      <td>AllPub</td>\n",
       "      <td>...</td>\n",
       "      <td>0</td>\n",
       "      <td>NaN</td>\n",
       "      <td>NaN</td>\n",
       "      <td>NaN</td>\n",
       "      <td>0</td>\n",
       "      <td>5</td>\n",
       "      <td>2007</td>\n",
       "      <td>WD</td>\n",
       "      <td>Normal</td>\n",
       "      <td>181500</td>\n",
       "    </tr>\n",
       "    <tr>\n",
       "      <th>2</th>\n",
       "      <td>3</td>\n",
       "      <td>60</td>\n",
       "      <td>RL</td>\n",
       "      <td>68.0</td>\n",
       "      <td>11250</td>\n",
       "      <td>Pave</td>\n",
       "      <td>NaN</td>\n",
       "      <td>IR1</td>\n",
       "      <td>Lvl</td>\n",
       "      <td>AllPub</td>\n",
       "      <td>...</td>\n",
       "      <td>0</td>\n",
       "      <td>NaN</td>\n",
       "      <td>NaN</td>\n",
       "      <td>NaN</td>\n",
       "      <td>0</td>\n",
       "      <td>9</td>\n",
       "      <td>2008</td>\n",
       "      <td>WD</td>\n",
       "      <td>Normal</td>\n",
       "      <td>223500</td>\n",
       "    </tr>\n",
       "    <tr>\n",
       "      <th>3</th>\n",
       "      <td>4</td>\n",
       "      <td>70</td>\n",
       "      <td>RL</td>\n",
       "      <td>60.0</td>\n",
       "      <td>9550</td>\n",
       "      <td>Pave</td>\n",
       "      <td>NaN</td>\n",
       "      <td>IR1</td>\n",
       "      <td>Lvl</td>\n",
       "      <td>AllPub</td>\n",
       "      <td>...</td>\n",
       "      <td>0</td>\n",
       "      <td>NaN</td>\n",
       "      <td>NaN</td>\n",
       "      <td>NaN</td>\n",
       "      <td>0</td>\n",
       "      <td>2</td>\n",
       "      <td>2006</td>\n",
       "      <td>WD</td>\n",
       "      <td>Abnorml</td>\n",
       "      <td>140000</td>\n",
       "    </tr>\n",
       "    <tr>\n",
       "      <th>4</th>\n",
       "      <td>5</td>\n",
       "      <td>60</td>\n",
       "      <td>RL</td>\n",
       "      <td>84.0</td>\n",
       "      <td>14260</td>\n",
       "      <td>Pave</td>\n",
       "      <td>NaN</td>\n",
       "      <td>IR1</td>\n",
       "      <td>Lvl</td>\n",
       "      <td>AllPub</td>\n",
       "      <td>...</td>\n",
       "      <td>0</td>\n",
       "      <td>NaN</td>\n",
       "      <td>NaN</td>\n",
       "      <td>NaN</td>\n",
       "      <td>0</td>\n",
       "      <td>12</td>\n",
       "      <td>2008</td>\n",
       "      <td>WD</td>\n",
       "      <td>Normal</td>\n",
       "      <td>250000</td>\n",
       "    </tr>\n",
       "  </tbody>\n",
       "</table>\n",
       "<p>5 rows × 81 columns</p>\n",
       "</div>"
      ],
      "text/plain": [
       "   Id  MSSubClass MSZoning  LotFrontage  LotArea Street Alley LotShape  \\\n",
       "0   1          60       RL         65.0     8450   Pave   NaN      Reg   \n",
       "1   2          20       RL         80.0     9600   Pave   NaN      Reg   \n",
       "2   3          60       RL         68.0    11250   Pave   NaN      IR1   \n",
       "3   4          70       RL         60.0     9550   Pave   NaN      IR1   \n",
       "4   5          60       RL         84.0    14260   Pave   NaN      IR1   \n",
       "\n",
       "  LandContour Utilities  ... PoolArea PoolQC Fence MiscFeature MiscVal MoSold  \\\n",
       "0         Lvl    AllPub  ...        0    NaN   NaN         NaN       0      2   \n",
       "1         Lvl    AllPub  ...        0    NaN   NaN         NaN       0      5   \n",
       "2         Lvl    AllPub  ...        0    NaN   NaN         NaN       0      9   \n",
       "3         Lvl    AllPub  ...        0    NaN   NaN         NaN       0      2   \n",
       "4         Lvl    AllPub  ...        0    NaN   NaN         NaN       0     12   \n",
       "\n",
       "  YrSold  SaleType  SaleCondition  SalePrice  \n",
       "0   2008        WD         Normal     208500  \n",
       "1   2007        WD         Normal     181500  \n",
       "2   2008        WD         Normal     223500  \n",
       "3   2006        WD        Abnorml     140000  \n",
       "4   2008        WD         Normal     250000  \n",
       "\n",
       "[5 rows x 81 columns]"
      ]
     },
     "execution_count": 2,
     "metadata": {},
     "output_type": "execute_result"
    }
   ],
   "source": [
    "import pandas as pd\n",
    "import numpy as np\n",
    "import matplotlib.pyplot as plt\n",
    "import seaborn as sns\n",
    "import scipy.stats as st\n",
    "\n",
    "import warnings\n",
    "warnings.filterwarnings('ignore')\n",
    "\n",
    "#read dataset\n",
    "df = pd.read_csv('train.csv')\n",
    "df.head()"
   ]
  },
  {
   "cell_type": "markdown",
   "id": "4779e17f-782f-4819-a33b-669fbe8f7c8f",
   "metadata": {
    "tags": []
   },
   "source": [
    "## Check about Dataset"
   ]
  },
  {
   "cell_type": "code",
   "execution_count": 26,
   "id": "a5f257dc-872c-4914-bb9e-974dac21d412",
   "metadata": {},
   "outputs": [
    {
     "data": {
      "text/plain": [
       "(1460, 81)"
      ]
     },
     "execution_count": 26,
     "metadata": {},
     "output_type": "execute_result"
    }
   ],
   "source": [
    "df.shape"
   ]
  },
  {
   "cell_type": "code",
   "execution_count": 7,
   "id": "9cf052c6-b7bb-4f9b-814c-a0da6c63eafb",
   "metadata": {},
   "outputs": [
    {
     "data": {
      "text/plain": [
       "False"
      ]
     },
     "execution_count": 7,
     "metadata": {},
     "output_type": "execute_result"
    }
   ],
   "source": [
    "df.duplicated().any()"
   ]
  },
  {
   "cell_type": "markdown",
   "id": "5b1a534a-dd97-4d19-837f-c6c3fc9fc4fd",
   "metadata": {
    "tags": []
   },
   "source": [
    "## Number 1"
   ]
  },
  {
   "cell_type": "markdown",
   "id": "82091397-2d11-4c95-8f37-701267c9effe",
   "metadata": {},
   "source": [
    "### Tunjukkan statistika deskriptif untuk variabel harga rumah (Column Name : SalePrice)!"
   ]
  },
  {
   "cell_type": "code",
   "execution_count": 21,
   "id": "d03385af-3528-407b-a255-197bbee61c10",
   "metadata": {},
   "outputs": [
    {
     "data": {
      "text/plain": [
       "count      1460.000000\n",
       "mean     180921.195890\n",
       "std       79442.502883\n",
       "min       34900.000000\n",
       "25%      129975.000000\n",
       "50%      163000.000000\n",
       "75%      214000.000000\n",
       "max      755000.000000\n",
       "Name: SalePrice, dtype: float64"
      ]
     },
     "execution_count": 21,
     "metadata": {},
     "output_type": "execute_result"
    }
   ],
   "source": [
    "df['SalePrice'].describe()"
   ]
  },
  {
   "cell_type": "code",
   "execution_count": 29,
   "id": "805341e9-2721-4520-a63f-d4ed4a85142a",
   "metadata": {},
   "outputs": [
    {
     "name": "stdout",
     "output_type": "stream",
     "text": [
      "Rata - rata harga rumah adalah 180921.19589041095\n",
      "Median harga rumah adalah 163000\n",
      "Modus harga rumah adalah 140000\n",
      "Range yang didapatkan sebesar 720100\n"
     ]
    }
   ],
   "source": [
    "print('Rata - rata harga rumah adalah', df['SalePrice'].mean())\n",
    "print('Median harga rumah adalah', int(df['SalePrice'].median()))\n",
    "print('Modus harga rumah adalah', df['SalePrice'].mode()[0])\n",
    "\n",
    "print('Range yang didapatkan sebesar', df['SalePrice'].max() - df['SalePrice'].min())"
   ]
  },
  {
   "cell_type": "code",
   "execution_count": 20,
   "id": "2b438828-7d82-4444-a258-98fc6146eb78",
   "metadata": {},
   "outputs": [
    {
     "data": {
      "image/png": "[encoded data removed]",
      "text/plain": [
       "<Figure size 576x360 with 1 Axes>"
      ]
     },
     "metadata": {
      "needs_background": "light"
     },
     "output_type": "display_data"
    }
   ],
   "source": [
    "plt.figure(figsize = (8,5))\n",
    "sns.histplot(x = 'SalePrice', data = df, kde = True);"
   ]
  },
  {
   "cell_type": "markdown",
   "id": "761b2a46-0d78-4101-972d-f98a5a9ffacd",
   "metadata": {},
   "source": [
    "<p>- Jenis distribusi pada grafik di atas adalah distribusi yang positively skewd atau menceng ke kanan<br>\n",
    "    - Terdapat 1460 yang dimana mempresentasikan jumlah rumah <br>\n",
    "    - Karena grafik tersebut positively skewd, maka rata - rata harga rumah lebih tinggi dibanding median nya<br>\n",
    "    - Jumlah rata rata harga rumah adalah 180921.19589041095 dengan standard deviation 79442.502883. Standard Deviation yang cenderung tinggi karena terdapat banyak outliers<br>\n",
    "    - Memiliki Median harga rumah sebesar 163000<br>\n",
    "    - Range yang didapatkan sebesar 720100. Yang dimana cukup besar karena adanya outliers</p>"
   ]
  },
  {
   "cell_type": "markdown",
   "id": "0dd78e6e-015a-4836-a9ca-44c096ccfd74",
   "metadata": {
    "tags": []
   },
   "source": [
    "## Number 2"
   ]
  },
  {
   "cell_type": "markdown",
   "id": "56797a6e-fab2-49a5-8fdf-1176bb972623",
   "metadata": {},
   "source": [
    "### Tunjukkan statistika deskriptif untuk variabel harga rumah (Column Name : SalePrice) setiap tahunnya (Column Name : YrSold)!\n",
    "Secara deskriptif jelaskan apakah ada perbedaan setiap tahunnya \n",
    "atau tidak?"
   ]
  },
  {
   "cell_type": "code",
   "execution_count": 2,
   "id": "c7244f77-96e7-4150-9afb-dbbf2e7c9664",
   "metadata": {},
   "outputs": [
    {
     "data": {
      "text/html": [
       "<div>\n",
       "<style scoped>\n",
       "    .dataframe tbody tr th:only-of-type {\n",
       "        vertical-align: middle;\n",
       "    }\n",
       "\n",
       "    .dataframe tbody tr th {\n",
       "        vertical-align: top;\n",
       "    }\n",
       "\n",
       "    .dataframe thead th {\n",
       "        text-align: right;\n",
       "    }\n",
       "</style>\n",
       "<table border=\"1\" class=\"dataframe\">\n",
       "  <thead>\n",
       "    <tr style=\"text-align: right;\">\n",
       "      <th></th>\n",
       "      <th>YrSold</th>\n",
       "      <th>count</th>\n",
       "      <th>mean</th>\n",
       "      <th>std</th>\n",
       "      <th>min</th>\n",
       "      <th>25%</th>\n",
       "      <th>50%</th>\n",
       "      <th>75%</th>\n",
       "      <th>max</th>\n",
       "      <th>Range</th>\n",
       "    </tr>\n",
       "  </thead>\n",
       "  <tbody>\n",
       "    <tr>\n",
       "      <th>0</th>\n",
       "      <td>2006</td>\n",
       "      <td>314.0</td>\n",
       "      <td>182549.458599</td>\n",
       "      <td>79426.838855</td>\n",
       "      <td>35311.0</td>\n",
       "      <td>131375.0</td>\n",
       "      <td>163995.0</td>\n",
       "      <td>218782.5</td>\n",
       "      <td>625000.0</td>\n",
       "      <td>589689.0</td>\n",
       "    </tr>\n",
       "    <tr>\n",
       "      <th>1</th>\n",
       "      <td>2007</td>\n",
       "      <td>329.0</td>\n",
       "      <td>186063.151976</td>\n",
       "      <td>85768.171410</td>\n",
       "      <td>39300.0</td>\n",
       "      <td>129900.0</td>\n",
       "      <td>167000.0</td>\n",
       "      <td>219500.0</td>\n",
       "      <td>755000.0</td>\n",
       "      <td>715700.0</td>\n",
       "    </tr>\n",
       "    <tr>\n",
       "      <th>2</th>\n",
       "      <td>2008</td>\n",
       "      <td>304.0</td>\n",
       "      <td>177360.838816</td>\n",
       "      <td>69735.610685</td>\n",
       "      <td>40000.0</td>\n",
       "      <td>131250.0</td>\n",
       "      <td>164000.0</td>\n",
       "      <td>207000.0</td>\n",
       "      <td>446261.0</td>\n",
       "      <td>406261.0</td>\n",
       "    </tr>\n",
       "    <tr>\n",
       "      <th>3</th>\n",
       "      <td>2009</td>\n",
       "      <td>338.0</td>\n",
       "      <td>179432.103550</td>\n",
       "      <td>80879.237311</td>\n",
       "      <td>34900.0</td>\n",
       "      <td>125250.0</td>\n",
       "      <td>162000.0</td>\n",
       "      <td>212750.0</td>\n",
       "      <td>582933.0</td>\n",
       "      <td>548033.0</td>\n",
       "    </tr>\n",
       "    <tr>\n",
       "      <th>4</th>\n",
       "      <td>2010</td>\n",
       "      <td>175.0</td>\n",
       "      <td>177393.674286</td>\n",
       "      <td>80451.280085</td>\n",
       "      <td>55000.0</td>\n",
       "      <td>128100.0</td>\n",
       "      <td>155000.0</td>\n",
       "      <td>213250.0</td>\n",
       "      <td>611657.0</td>\n",
       "      <td>556657.0</td>\n",
       "    </tr>\n",
       "  </tbody>\n",
       "</table>\n",
       "</div>"
      ],
      "text/plain": [
       "   YrSold  count           mean           std      min       25%       50%  \\\n",
       "0    2006  314.0  182549.458599  79426.838855  35311.0  131375.0  163995.0   \n",
       "1    2007  329.0  186063.151976  85768.171410  39300.0  129900.0  167000.0   \n",
       "2    2008  304.0  177360.838816  69735.610685  40000.0  131250.0  164000.0   \n",
       "3    2009  338.0  179432.103550  80879.237311  34900.0  125250.0  162000.0   \n",
       "4    2010  175.0  177393.674286  80451.280085  55000.0  128100.0  155000.0   \n",
       "\n",
       "        75%       max     Range  \n",
       "0  218782.5  625000.0  589689.0  \n",
       "1  219500.0  755000.0  715700.0  \n",
       "2  207000.0  446261.0  406261.0  \n",
       "3  212750.0  582933.0  548033.0  \n",
       "4  213250.0  611657.0  556657.0  "
      ]
     },
     "execution_count": 2,
     "metadata": {},
     "output_type": "execute_result"
    }
   ],
   "source": [
    "df_grouped = df.groupby(['YrSold'])['SalePrice'].describe().reset_index()\n",
    "df_grouped['Range'] = df_grouped['max'] - df_grouped['min']\n",
    "df_grouped"
   ]
  },
  {
   "cell_type": "code",
   "execution_count": 12,
   "id": "2eee6236-8890-4943-8a92-a367924c8e96",
   "metadata": {},
   "outputs": [
    {
     "data": {
      "text/html": [
       "<div>\n",
       "<style scoped>\n",
       "    .dataframe tbody tr th:only-of-type {\n",
       "        vertical-align: middle;\n",
       "    }\n",
       "\n",
       "    .dataframe tbody tr th {\n",
       "        vertical-align: top;\n",
       "    }\n",
       "\n",
       "    .dataframe thead th {\n",
       "        text-align: right;\n",
       "    }\n",
       "</style>\n",
       "<table border=\"1\" class=\"dataframe\">\n",
       "  <thead>\n",
       "    <tr style=\"text-align: right;\">\n",
       "      <th></th>\n",
       "      <th>Id</th>\n",
       "      <th>MSSubClass</th>\n",
       "      <th>MSZoning</th>\n",
       "      <th>LotFrontage</th>\n",
       "      <th>LotArea</th>\n",
       "      <th>Street</th>\n",
       "      <th>Alley</th>\n",
       "      <th>LotShape</th>\n",
       "      <th>LandContour</th>\n",
       "      <th>Utilities</th>\n",
       "      <th>...</th>\n",
       "      <th>PoolArea</th>\n",
       "      <th>PoolQC</th>\n",
       "      <th>Fence</th>\n",
       "      <th>MiscFeature</th>\n",
       "      <th>MiscVal</th>\n",
       "      <th>MoSold</th>\n",
       "      <th>YrSold</th>\n",
       "      <th>SaleType</th>\n",
       "      <th>SaleCondition</th>\n",
       "      <th>SalePrice</th>\n",
       "    </tr>\n",
       "  </thead>\n",
       "  <tbody>\n",
       "    <tr>\n",
       "      <th>691</th>\n",
       "      <td>692</td>\n",
       "      <td>60</td>\n",
       "      <td>RL</td>\n",
       "      <td>104.0</td>\n",
       "      <td>21535</td>\n",
       "      <td>Pave</td>\n",
       "      <td>NaN</td>\n",
       "      <td>IR1</td>\n",
       "      <td>Lvl</td>\n",
       "      <td>AllPub</td>\n",
       "      <td>...</td>\n",
       "      <td>0</td>\n",
       "      <td>NaN</td>\n",
       "      <td>NaN</td>\n",
       "      <td>NaN</td>\n",
       "      <td>0</td>\n",
       "      <td>1</td>\n",
       "      <td>2007</td>\n",
       "      <td>WD</td>\n",
       "      <td>Normal</td>\n",
       "      <td>755000</td>\n",
       "    </tr>\n",
       "    <tr>\n",
       "      <th>1182</th>\n",
       "      <td>1183</td>\n",
       "      <td>60</td>\n",
       "      <td>RL</td>\n",
       "      <td>160.0</td>\n",
       "      <td>15623</td>\n",
       "      <td>Pave</td>\n",
       "      <td>NaN</td>\n",
       "      <td>IR1</td>\n",
       "      <td>Lvl</td>\n",
       "      <td>AllPub</td>\n",
       "      <td>...</td>\n",
       "      <td>555</td>\n",
       "      <td>Ex</td>\n",
       "      <td>MnPrv</td>\n",
       "      <td>NaN</td>\n",
       "      <td>0</td>\n",
       "      <td>7</td>\n",
       "      <td>2007</td>\n",
       "      <td>WD</td>\n",
       "      <td>Abnorml</td>\n",
       "      <td>745000</td>\n",
       "    </tr>\n",
       "    <tr>\n",
       "      <th>1373</th>\n",
       "      <td>1374</td>\n",
       "      <td>20</td>\n",
       "      <td>RL</td>\n",
       "      <td>NaN</td>\n",
       "      <td>11400</td>\n",
       "      <td>Pave</td>\n",
       "      <td>NaN</td>\n",
       "      <td>Reg</td>\n",
       "      <td>Lvl</td>\n",
       "      <td>AllPub</td>\n",
       "      <td>...</td>\n",
       "      <td>0</td>\n",
       "      <td>NaN</td>\n",
       "      <td>NaN</td>\n",
       "      <td>NaN</td>\n",
       "      <td>0</td>\n",
       "      <td>3</td>\n",
       "      <td>2007</td>\n",
       "      <td>WD</td>\n",
       "      <td>Normal</td>\n",
       "      <td>466500</td>\n",
       "    </tr>\n",
       "    <tr>\n",
       "      <th>473</th>\n",
       "      <td>474</td>\n",
       "      <td>20</td>\n",
       "      <td>RL</td>\n",
       "      <td>110.0</td>\n",
       "      <td>14977</td>\n",
       "      <td>Pave</td>\n",
       "      <td>NaN</td>\n",
       "      <td>IR1</td>\n",
       "      <td>Lvl</td>\n",
       "      <td>AllPub</td>\n",
       "      <td>...</td>\n",
       "      <td>0</td>\n",
       "      <td>NaN</td>\n",
       "      <td>NaN</td>\n",
       "      <td>NaN</td>\n",
       "      <td>0</td>\n",
       "      <td>7</td>\n",
       "      <td>2007</td>\n",
       "      <td>New</td>\n",
       "      <td>Partial</td>\n",
       "      <td>440000</td>\n",
       "    </tr>\n",
       "    <tr>\n",
       "      <th>496</th>\n",
       "      <td>497</td>\n",
       "      <td>20</td>\n",
       "      <td>RL</td>\n",
       "      <td>NaN</td>\n",
       "      <td>12692</td>\n",
       "      <td>Pave</td>\n",
       "      <td>NaN</td>\n",
       "      <td>IR1</td>\n",
       "      <td>Lvl</td>\n",
       "      <td>AllPub</td>\n",
       "      <td>...</td>\n",
       "      <td>0</td>\n",
       "      <td>NaN</td>\n",
       "      <td>NaN</td>\n",
       "      <td>NaN</td>\n",
       "      <td>0</td>\n",
       "      <td>5</td>\n",
       "      <td>2007</td>\n",
       "      <td>WD</td>\n",
       "      <td>Normal</td>\n",
       "      <td>430000</td>\n",
       "    </tr>\n",
       "  </tbody>\n",
       "</table>\n",
       "<p>5 rows × 81 columns</p>\n",
       "</div>"
      ],
      "text/plain": [
       "        Id  MSSubClass MSZoning  LotFrontage  LotArea Street Alley LotShape  \\\n",
       "691    692          60       RL        104.0    21535   Pave   NaN      IR1   \n",
       "1182  1183          60       RL        160.0    15623   Pave   NaN      IR1   \n",
       "1373  1374          20       RL          NaN    11400   Pave   NaN      Reg   \n",
       "473    474          20       RL        110.0    14977   Pave   NaN      IR1   \n",
       "496    497          20       RL          NaN    12692   Pave   NaN      IR1   \n",
       "\n",
       "     LandContour Utilities  ... PoolArea PoolQC  Fence MiscFeature MiscVal  \\\n",
       "691          Lvl    AllPub  ...        0    NaN    NaN         NaN       0   \n",
       "1182         Lvl    AllPub  ...      555     Ex  MnPrv         NaN       0   \n",
       "1373         Lvl    AllPub  ...        0    NaN    NaN         NaN       0   \n",
       "473          Lvl    AllPub  ...        0    NaN    NaN         NaN       0   \n",
       "496          Lvl    AllPub  ...        0    NaN    NaN         NaN       0   \n",
       "\n",
       "     MoSold YrSold  SaleType  SaleCondition  SalePrice  \n",
       "691       1   2007        WD         Normal     755000  \n",
       "1182      7   2007        WD        Abnorml     745000  \n",
       "1373      3   2007        WD         Normal     466500  \n",
       "473       7   2007       New        Partial     440000  \n",
       "496       5   2007        WD         Normal     430000  \n",
       "\n",
       "[5 rows x 81 columns]"
      ]
     },
     "execution_count": 12,
     "metadata": {},
     "output_type": "execute_result"
    }
   ],
   "source": [
    "df_2008 = df.loc[df['YrSold'] == 2007]\n",
    "df_2008.sort_values(['SalePrice'], ascending = False).head()"
   ]
  },
  {
   "cell_type": "code",
   "execution_count": 11,
   "id": "1e20e294-a0a3-4a53-9c9a-ce40ba6df827",
   "metadata": {},
   "outputs": [
    {
     "data": {
      "text/html": [
       "<div>\n",
       "<style scoped>\n",
       "    .dataframe tbody tr th:only-of-type {\n",
       "        vertical-align: middle;\n",
       "    }\n",
       "\n",
       "    .dataframe tbody tr th {\n",
       "        vertical-align: top;\n",
       "    }\n",
       "\n",
       "    .dataframe thead th {\n",
       "        text-align: right;\n",
       "    }\n",
       "</style>\n",
       "<table border=\"1\" class=\"dataframe\">\n",
       "  <thead>\n",
       "    <tr style=\"text-align: right;\">\n",
       "      <th></th>\n",
       "      <th>Id</th>\n",
       "      <th>MSSubClass</th>\n",
       "      <th>MSZoning</th>\n",
       "      <th>LotFrontage</th>\n",
       "      <th>LotArea</th>\n",
       "      <th>Street</th>\n",
       "      <th>Alley</th>\n",
       "      <th>LotShape</th>\n",
       "      <th>LandContour</th>\n",
       "      <th>Utilities</th>\n",
       "      <th>...</th>\n",
       "      <th>PoolArea</th>\n",
       "      <th>PoolQC</th>\n",
       "      <th>Fence</th>\n",
       "      <th>MiscFeature</th>\n",
       "      <th>MiscVal</th>\n",
       "      <th>MoSold</th>\n",
       "      <th>YrSold</th>\n",
       "      <th>SaleType</th>\n",
       "      <th>SaleCondition</th>\n",
       "      <th>SalePrice</th>\n",
       "    </tr>\n",
       "  </thead>\n",
       "  <tbody>\n",
       "    <tr>\n",
       "      <th>527</th>\n",
       "      <td>528</td>\n",
       "      <td>60</td>\n",
       "      <td>RL</td>\n",
       "      <td>67.0</td>\n",
       "      <td>14948</td>\n",
       "      <td>Pave</td>\n",
       "      <td>NaN</td>\n",
       "      <td>IR1</td>\n",
       "      <td>Lvl</td>\n",
       "      <td>AllPub</td>\n",
       "      <td>...</td>\n",
       "      <td>0</td>\n",
       "      <td>NaN</td>\n",
       "      <td>NaN</td>\n",
       "      <td>NaN</td>\n",
       "      <td>0</td>\n",
       "      <td>11</td>\n",
       "      <td>2008</td>\n",
       "      <td>New</td>\n",
       "      <td>Partial</td>\n",
       "      <td>446261</td>\n",
       "    </tr>\n",
       "    <tr>\n",
       "      <th>389</th>\n",
       "      <td>390</td>\n",
       "      <td>60</td>\n",
       "      <td>RL</td>\n",
       "      <td>96.0</td>\n",
       "      <td>12474</td>\n",
       "      <td>Pave</td>\n",
       "      <td>NaN</td>\n",
       "      <td>Reg</td>\n",
       "      <td>Lvl</td>\n",
       "      <td>AllPub</td>\n",
       "      <td>...</td>\n",
       "      <td>0</td>\n",
       "      <td>NaN</td>\n",
       "      <td>NaN</td>\n",
       "      <td>NaN</td>\n",
       "      <td>0</td>\n",
       "      <td>8</td>\n",
       "      <td>2008</td>\n",
       "      <td>New</td>\n",
       "      <td>Partial</td>\n",
       "      <td>426000</td>\n",
       "    </tr>\n",
       "    <tr>\n",
       "      <th>161</th>\n",
       "      <td>162</td>\n",
       "      <td>60</td>\n",
       "      <td>RL</td>\n",
       "      <td>110.0</td>\n",
       "      <td>13688</td>\n",
       "      <td>Pave</td>\n",
       "      <td>NaN</td>\n",
       "      <td>IR1</td>\n",
       "      <td>Lvl</td>\n",
       "      <td>AllPub</td>\n",
       "      <td>...</td>\n",
       "      <td>0</td>\n",
       "      <td>NaN</td>\n",
       "      <td>NaN</td>\n",
       "      <td>NaN</td>\n",
       "      <td>0</td>\n",
       "      <td>3</td>\n",
       "      <td>2008</td>\n",
       "      <td>WD</td>\n",
       "      <td>Normal</td>\n",
       "      <td>412500</td>\n",
       "    </tr>\n",
       "    <tr>\n",
       "      <th>1437</th>\n",
       "      <td>1438</td>\n",
       "      <td>20</td>\n",
       "      <td>RL</td>\n",
       "      <td>96.0</td>\n",
       "      <td>12444</td>\n",
       "      <td>Pave</td>\n",
       "      <td>NaN</td>\n",
       "      <td>Reg</td>\n",
       "      <td>Lvl</td>\n",
       "      <td>AllPub</td>\n",
       "      <td>...</td>\n",
       "      <td>0</td>\n",
       "      <td>NaN</td>\n",
       "      <td>NaN</td>\n",
       "      <td>NaN</td>\n",
       "      <td>0</td>\n",
       "      <td>11</td>\n",
       "      <td>2008</td>\n",
       "      <td>New</td>\n",
       "      <td>Partial</td>\n",
       "      <td>394617</td>\n",
       "    </tr>\n",
       "    <tr>\n",
       "      <th>1181</th>\n",
       "      <td>1182</td>\n",
       "      <td>120</td>\n",
       "      <td>RM</td>\n",
       "      <td>64.0</td>\n",
       "      <td>5587</td>\n",
       "      <td>Pave</td>\n",
       "      <td>NaN</td>\n",
       "      <td>IR1</td>\n",
       "      <td>HLS</td>\n",
       "      <td>AllPub</td>\n",
       "      <td>...</td>\n",
       "      <td>0</td>\n",
       "      <td>NaN</td>\n",
       "      <td>NaN</td>\n",
       "      <td>NaN</td>\n",
       "      <td>0</td>\n",
       "      <td>11</td>\n",
       "      <td>2008</td>\n",
       "      <td>New</td>\n",
       "      <td>Partial</td>\n",
       "      <td>392500</td>\n",
       "    </tr>\n",
       "  </tbody>\n",
       "</table>\n",
       "<p>5 rows × 81 columns</p>\n",
       "</div>"
      ],
      "text/plain": [
       "        Id  MSSubClass MSZoning  LotFrontage  LotArea Street Alley LotShape  \\\n",
       "527    528          60       RL         67.0    14948   Pave   NaN      IR1   \n",
       "389    390          60       RL         96.0    12474   Pave   NaN      Reg   \n",
       "161    162          60       RL        110.0    13688   Pave   NaN      IR1   \n",
       "1437  1438          20       RL         96.0    12444   Pave   NaN      Reg   \n",
       "1181  1182         120       RM         64.0     5587   Pave   NaN      IR1   \n",
       "\n",
       "     LandContour Utilities  ... PoolArea PoolQC Fence MiscFeature MiscVal  \\\n",
       "527          Lvl    AllPub  ...        0    NaN   NaN         NaN       0   \n",
       "389          Lvl    AllPub  ...        0    NaN   NaN         NaN       0   \n",
       "161          Lvl    AllPub  ...        0    NaN   NaN         NaN       0   \n",
       "1437         Lvl    AllPub  ...        0    NaN   NaN         NaN       0   \n",
       "1181         HLS    AllPub  ...        0    NaN   NaN         NaN       0   \n",
       "\n",
       "     MoSold YrSold  SaleType  SaleCondition  SalePrice  \n",
       "527      11   2008       New        Partial     446261  \n",
       "389       8   2008       New        Partial     426000  \n",
       "161       3   2008        WD         Normal     412500  \n",
       "1437     11   2008       New        Partial     394617  \n",
       "1181     11   2008       New        Partial     392500  \n",
       "\n",
       "[5 rows x 81 columns]"
      ]
     },
     "execution_count": 11,
     "metadata": {},
     "output_type": "execute_result"
    }
   ],
   "source": [
    "df_2008 = df.loc[df['YrSold'] == 2008]\n",
    "df_2008.sort_values(['SalePrice'], ascending = False).head()"
   ]
  },
  {
   "cell_type": "code",
   "execution_count": 3,
   "id": "889c2037-743d-4eb5-9bdb-389ef24334a9",
   "metadata": {},
   "outputs": [
    {
     "data": {
      "image/png": "[encoded data removed]",
      "text/plain": [
       "<Figure size 576x360 with 1 Axes>"
      ]
     },
     "metadata": {
      "needs_background": "light"
     },
     "output_type": "display_data"
    }
   ],
   "source": [
    "plt.figure(figsize = (8,5))\n",
    "sns.lineplot(x = 'YrSold', y = 'mean', data = df_grouped);"
   ]
  },
  {
   "cell_type": "code",
   "execution_count": 5,
   "id": "a22eb270-3576-455f-8b31-5d6582aa1986",
   "metadata": {},
   "outputs": [
    {
     "data": {
      "image/png": "[encoded data removed]",
      "text/plain": [
       "<Figure size 576x360 with 1 Axes>"
      ]
     },
     "metadata": {
      "needs_background": "light"
     },
     "output_type": "display_data"
    }
   ],
   "source": [
    "plt.figure(figsize = (8,5))\n",
    "sns.lineplot(x = 'YrSold', y = 'Range', data = df_grouped);"
   ]
  },
  {
   "cell_type": "markdown",
   "id": "cb129e49-e3e1-4f7b-9bf7-b1326ed0f0b9",
   "metadata": {},
   "source": [
    "<p>Menurut beberapa grafik di atas, terjadi penurunan drastis harga rumah di tahun 2008. Karena krisis tersebut yang membuat mean dan range harga rumah juga menurun. Pada tahun 2008, harga rumah termahal menurun yang menyebabkan nilai Range juga menurun.</p>"
   ]
  },
  {
   "cell_type": "markdown",
   "id": "cac7fc17-6405-4aaf-8dbf-a784944d025b",
   "metadata": {},
   "source": [
    "## Number 3"
   ]
  },
  {
   "cell_type": "markdown",
   "id": "313cf330-784d-4dfd-887a-afd834997dbd",
   "metadata": {},
   "source": [
    "### Bagaimana distribusi harga rumah tersebut. Gunakan histogram plot tidak terbatas hanya histogram saja. Jelaskan sebaiknya untuk analisa apakah lebih baik menggunakan mean atau menggunakan median? Beserta alasannya (Column Name : SalePrice)\n",
    "Ceritakan analisa tersebut dengan sudut pandang statistika."
   ]
  },
  {
   "cell_type": "code",
   "execution_count": 16,
   "id": "ea9a4aba-c7ef-4715-a879-e83a003eb418",
   "metadata": {},
   "outputs": [
    {
     "data": {
      "image/png": "[encoded data removed]",
      "text/plain": [
       "<Figure size 576x360 with 1 Axes>"
      ]
     },
     "metadata": {
      "needs_background": "light"
     },
     "output_type": "display_data"
    }
   ],
   "source": [
    "plt.figure(figsize = (8,5))\n",
    "sns.histplot(x = 'SalePrice', data = df, kde = True);"
   ]
  },
  {
   "cell_type": "markdown",
   "id": "dadfd0a5-68c8-4da5-add2-5b21287b3c24",
   "metadata": {},
   "source": [
    "<p>Client lebih banyak membeli rumah di harga kisaran 100k sampai 200k. Distribusi pada grafik di atas merupakan distribusi Positively Skewed atau menceng ke kanan. Yang dimana rata - rata harga rumah lebih besar dari median nya karena ada banyak outliers. Untuk analisis lanjut, sebaiknya menggunakan <b>median</b> karena median robust atau kokoh terhadap outliers. Tidak disarankan menggunakan mean untnuk analisis lebih lanjut karena tidak robust terhadap outliers.</p>"
   ]
  },
  {
   "cell_type": "markdown",
   "id": "e410b767-f4b6-4360-8c20-bb881ec30835",
   "metadata": {
    "tags": []
   },
   "source": [
    "## Number 4"
   ]
  },
  {
   "cell_type": "markdown",
   "id": "03f72b8c-b54a-4562-a213-d0f7a36bc233",
   "metadata": {},
   "source": [
    "### Karena ada pernyataan bahwa setiap tahunnya harga rumah itu pasti naik. (tahun terjual : YrSold, harga rumah : SalePrice) Silahkan teman-teman buktikan dengan data yang ada menggunakan ilmu statistika? (Tidak terbatas pada pengujian apapun)"
   ]
  },
  {
   "cell_type": "code",
   "execution_count": 3,
   "id": "74ed30fd-9138-4701-a0d1-ecc253a019ee",
   "metadata": {},
   "outputs": [
    {
     "data": {
      "text/html": [
       "<div>\n",
       "<style scoped>\n",
       "    .dataframe tbody tr th:only-of-type {\n",
       "        vertical-align: middle;\n",
       "    }\n",
       "\n",
       "    .dataframe tbody tr th {\n",
       "        vertical-align: top;\n",
       "    }\n",
       "\n",
       "    .dataframe thead th {\n",
       "        text-align: right;\n",
       "    }\n",
       "</style>\n",
       "<table border=\"1\" class=\"dataframe\">\n",
       "  <thead>\n",
       "    <tr style=\"text-align: right;\">\n",
       "      <th></th>\n",
       "      <th>YrSold</th>\n",
       "      <th>Mean_SalePrice</th>\n",
       "    </tr>\n",
       "  </thead>\n",
       "  <tbody>\n",
       "    <tr>\n",
       "      <th>0</th>\n",
       "      <td>2006</td>\n",
       "      <td>182549.458599</td>\n",
       "    </tr>\n",
       "    <tr>\n",
       "      <th>1</th>\n",
       "      <td>2007</td>\n",
       "      <td>186063.151976</td>\n",
       "    </tr>\n",
       "    <tr>\n",
       "      <th>2</th>\n",
       "      <td>2008</td>\n",
       "      <td>177360.838816</td>\n",
       "    </tr>\n",
       "    <tr>\n",
       "      <th>3</th>\n",
       "      <td>2009</td>\n",
       "      <td>179432.103550</td>\n",
       "    </tr>\n",
       "    <tr>\n",
       "      <th>4</th>\n",
       "      <td>2010</td>\n",
       "      <td>177393.674286</td>\n",
       "    </tr>\n",
       "  </tbody>\n",
       "</table>\n",
       "</div>"
      ],
      "text/plain": [
       "   YrSold  Mean_SalePrice\n",
       "0    2006   182549.458599\n",
       "1    2007   186063.151976\n",
       "2    2008   177360.838816\n",
       "3    2009   179432.103550\n",
       "4    2010   177393.674286"
      ]
     },
     "execution_count": 3,
     "metadata": {},
     "output_type": "execute_result"
    }
   ],
   "source": [
    "df_grup = df.groupby(['YrSold']).agg({'SalePrice' : 'mean'}).reset_index()\n",
    "df_rename = df_grup.rename(columns = {'SalePrice' : 'Mean_SalePrice'})\n",
    "df_rename"
   ]
  },
  {
   "cell_type": "code",
   "execution_count": 98,
   "id": "6103d527-07ff-4668-b6d2-f132d1aa740c",
   "metadata": {},
   "outputs": [
    {
     "data": {
      "image/png": "[encoded data removed]",
      "text/plain": [
       "<Figure size 576x504 with 1 Axes>"
      ]
     },
     "metadata": {
      "needs_background": "light"
     },
     "output_type": "display_data"
    }
   ],
   "source": [
    "plt.figure(figsize = (8,7))\n",
    "sns.barplot(x = 'YrSold', y = 'Mean_SalePrice', data = df_rename);"
   ]
  },
  {
   "cell_type": "markdown",
   "id": "3a9cf159-05e1-4f78-9380-72408824b68f",
   "metadata": {},
   "source": [
    "Pengujian menggunakan ANOVA karena populasi lebih dari 2"
   ]
  },
  {
   "cell_type": "code",
   "execution_count": 4,
   "id": "19a4eaef-e5c0-4d70-aacb-446ca8dd542b",
   "metadata": {},
   "outputs": [],
   "source": [
    "#filtering year\n",
    "df2006 = df.loc[df['YrSold'] == 2006]\n",
    "df2007 = df.loc[df['YrSold'] == 2007]\n",
    "df2008 = df.loc[df['YrSold'] == 2008]\n",
    "df2009 = df.loc[df['YrSold'] == 2009]\n",
    "df2010 = df.loc[df['YrSold'] == 2010]"
   ]
  },
  {
   "cell_type": "code",
   "execution_count": 88,
   "id": "30ecce2b-af21-4576-9bcc-eb36af0d5b6b",
   "metadata": {},
   "outputs": [
    {
     "data": {
      "text/plain": [
       "182549.4585987261"
      ]
     },
     "execution_count": 88,
     "metadata": {},
     "output_type": "execute_result"
    }
   ],
   "source": [
    "#Mean SalePrice tahun 2006\n",
    "df2006['SalePrice'].mean()"
   ]
  },
  {
   "cell_type": "code",
   "execution_count": 89,
   "id": "e0b7ba44-cd0f-40ff-a4d1-7aa4e19681e2",
   "metadata": {},
   "outputs": [
    {
     "data": {
      "text/plain": [
       "186063.1519756839"
      ]
     },
     "execution_count": 89,
     "metadata": {},
     "output_type": "execute_result"
    }
   ],
   "source": [
    "#Mean SalePrice tahun 2007\n",
    "df2007['SalePrice'].mean()"
   ]
  },
  {
   "cell_type": "code",
   "execution_count": 90,
   "id": "ed275b44-7a87-4e0d-b88c-9e486d5126d6",
   "metadata": {},
   "outputs": [
    {
     "data": {
      "text/plain": [
       "177360.83881578947"
      ]
     },
     "execution_count": 90,
     "metadata": {},
     "output_type": "execute_result"
    }
   ],
   "source": [
    "#Mean SalePrice tahun 2008\n",
    "df2008['SalePrice'].mean()"
   ]
  },
  {
   "cell_type": "code",
   "execution_count": 91,
   "id": "0e7a5e76-2d83-4f5a-ae7c-294c89fdc4c3",
   "metadata": {},
   "outputs": [
    {
     "data": {
      "text/plain": [
       "179432.10355029587"
      ]
     },
     "execution_count": 91,
     "metadata": {},
     "output_type": "execute_result"
    }
   ],
   "source": [
    "#Mean SalePrice tahun 2009\n",
    "df2009['SalePrice'].mean()"
   ]
  },
  {
   "cell_type": "code",
   "execution_count": 92,
   "id": "6cfb9e90-9846-41f1-9b4f-3183dd7819e6",
   "metadata": {},
   "outputs": [
    {
     "data": {
      "text/plain": [
       "177393.67428571428"
      ]
     },
     "execution_count": 92,
     "metadata": {},
     "output_type": "execute_result"
    }
   ],
   "source": [
    "#Mean SalePrice tahun 2010\n",
    "df2010['SalePrice'].mean()"
   ]
  },
  {
   "cell_type": "code",
   "execution_count": 105,
   "id": "3a65403d-562d-418a-ad14-83d3e03f3d2e",
   "metadata": {},
   "outputs": [
    {
     "name": "stdout",
     "output_type": "stream",
     "text": [
      "Nilai Pvalue yang didapatkan sebesar 0.63\n",
      "Test hipotesis menggunakan Anova menjelaskan bahwa harga rumah dari tahun ke tahun adalah sama. Karena dengan pvalue yang bernilai 0.6300887663573457 melebihi nilai alpha (0.05)\n"
     ]
    }
   ],
   "source": [
    "#H0 = tiap tahun harganya sama\n",
    "#H1 = ada yang dimana tahun sama tahun bedanya signifikan\n",
    "\n",
    "anova_test = st.f_oneway(df2006['SalePrice'], df2007['SalePrice'], df2008['SalePrice'], df2009['SalePrice'], df2010['SalePrice'])\n",
    "statistic = anova_test[0]\n",
    "pvalue = anova_test[1]\n",
    "\n",
    "print('Nilai Pvalue yang didapatkan sebesar', round(pvalue, 2))\n",
    "\n",
    "if pvalue > 0.05:\n",
    "    print('Test hipotesis menggunakan Anova menjelaskan bahwa harga rumah dari tahun ke tahun adalah sama. Karena dengan pvalue yang bernilai ' + str(pvalue) + ' melebihi nilai alpha (0.05)')\n",
    "else:\n",
    "    print('Test hipotesis menggunakan Anova menjelaskan bahwa harga rumah dari tahun ke tahun berbeda signifikan. Karena dengan pvalue yang bernilai ' + str(pvalue) + ' tidak melebihi nilai alpha (0.05)')"
   ]
  },
  {
   "cell_type": "markdown",
   "id": "a10a7dfd-a48f-434a-ba84-fdcf18acb013",
   "metadata": {
    "tags": []
   },
   "source": [
    "## Number 5"
   ]
  },
  {
   "cell_type": "markdown",
   "id": "9e4fc953-7a32-4fd2-b16c-be77ca4bd145",
   "metadata": {},
   "source": [
    "### Kasus yang akan digunakan adalah membuka akun deposit untuk nasabah bank. Pada kesempatan kali ini data scientist diminta tolong untuk menganalisa hasil ab-testing suatu perusahaan bank. Apakah jumlah campaign mampu meningkatkan keinginan user untuk membuka akun deposit atau tidak?"
   ]
  },
  {
   "cell_type": "markdown",
   "id": "144a756b-cc15-4b95-9245-b190195b7012",
   "metadata": {},
   "source": [
    "<p><b>Nama Experiment</b>: Apakah jumlah campaign mampu meningkatkan keinginan user untuk membuka akun deposit? <br>\n",
    "    <b>Hipotesis</b>: Jumlah campaign memengaruhi user untuk membuka akun deposit <br>\n",
    "    <b>Participant</b>: Customer Bank <br>\n",
    "    <b>Variable yang akan diuji</b>: Jumla Campaign <br>\n",
    "    <b>Metrics Macroconversions</b>: y(deposit) <br>\n",
    "    <b>Metrics Microconversions</b>: Jumlah Campaign <br>\n",
    "    <b>Vanity Metrics</b>: Jumlah customer bank <br>\n",
    "    <b>Sample Size</b> = 45211 <br>\n",
    "    <b>Duration</b> = 1 Tahun (Jan - May)</p>"
   ]
  },
  {
   "cell_type": "code",
   "execution_count": 106,
   "id": "0c6eec71-709a-4e57-aa06-fd6d6c91bdb0",
   "metadata": {},
   "outputs": [
    {
     "data": {
      "text/html": [
       "<div>\n",
       "<style scoped>\n",
       "    .dataframe tbody tr th:only-of-type {\n",
       "        vertical-align: middle;\n",
       "    }\n",
       "\n",
       "    .dataframe tbody tr th {\n",
       "        vertical-align: top;\n",
       "    }\n",
       "\n",
       "    .dataframe thead th {\n",
       "        text-align: right;\n",
       "    }\n",
       "</style>\n",
       "<table border=\"1\" class=\"dataframe\">\n",
       "  <thead>\n",
       "    <tr style=\"text-align: right;\">\n",
       "      <th></th>\n",
       "      <th>age</th>\n",
       "      <th>job</th>\n",
       "      <th>marital</th>\n",
       "      <th>education</th>\n",
       "      <th>default</th>\n",
       "      <th>balance</th>\n",
       "      <th>housing</th>\n",
       "      <th>loan</th>\n",
       "      <th>contact</th>\n",
       "      <th>day</th>\n",
       "      <th>month</th>\n",
       "      <th>duration</th>\n",
       "      <th>campaign</th>\n",
       "      <th>pdays</th>\n",
       "      <th>previous</th>\n",
       "      <th>poutcome</th>\n",
       "      <th>y</th>\n",
       "    </tr>\n",
       "  </thead>\n",
       "  <tbody>\n",
       "    <tr>\n",
       "      <th>0</th>\n",
       "      <td>58</td>\n",
       "      <td>management</td>\n",
       "      <td>married</td>\n",
       "      <td>tertiary</td>\n",
       "      <td>no</td>\n",
       "      <td>2143</td>\n",
       "      <td>yes</td>\n",
       "      <td>no</td>\n",
       "      <td>unknown</td>\n",
       "      <td>5</td>\n",
       "      <td>may</td>\n",
       "      <td>261</td>\n",
       "      <td>1</td>\n",
       "      <td>-1</td>\n",
       "      <td>0</td>\n",
       "      <td>unknown</td>\n",
       "      <td>no</td>\n",
       "    </tr>\n",
       "    <tr>\n",
       "      <th>1</th>\n",
       "      <td>44</td>\n",
       "      <td>technician</td>\n",
       "      <td>single</td>\n",
       "      <td>secondary</td>\n",
       "      <td>no</td>\n",
       "      <td>29</td>\n",
       "      <td>yes</td>\n",
       "      <td>no</td>\n",
       "      <td>unknown</td>\n",
       "      <td>5</td>\n",
       "      <td>may</td>\n",
       "      <td>151</td>\n",
       "      <td>1</td>\n",
       "      <td>-1</td>\n",
       "      <td>0</td>\n",
       "      <td>unknown</td>\n",
       "      <td>no</td>\n",
       "    </tr>\n",
       "    <tr>\n",
       "      <th>2</th>\n",
       "      <td>33</td>\n",
       "      <td>entrepreneur</td>\n",
       "      <td>married</td>\n",
       "      <td>secondary</td>\n",
       "      <td>no</td>\n",
       "      <td>2</td>\n",
       "      <td>yes</td>\n",
       "      <td>yes</td>\n",
       "      <td>unknown</td>\n",
       "      <td>5</td>\n",
       "      <td>may</td>\n",
       "      <td>76</td>\n",
       "      <td>1</td>\n",
       "      <td>-1</td>\n",
       "      <td>0</td>\n",
       "      <td>unknown</td>\n",
       "      <td>no</td>\n",
       "    </tr>\n",
       "    <tr>\n",
       "      <th>3</th>\n",
       "      <td>47</td>\n",
       "      <td>blue-collar</td>\n",
       "      <td>married</td>\n",
       "      <td>unknown</td>\n",
       "      <td>no</td>\n",
       "      <td>1506</td>\n",
       "      <td>yes</td>\n",
       "      <td>no</td>\n",
       "      <td>unknown</td>\n",
       "      <td>5</td>\n",
       "      <td>may</td>\n",
       "      <td>92</td>\n",
       "      <td>1</td>\n",
       "      <td>-1</td>\n",
       "      <td>0</td>\n",
       "      <td>unknown</td>\n",
       "      <td>no</td>\n",
       "    </tr>\n",
       "    <tr>\n",
       "      <th>4</th>\n",
       "      <td>33</td>\n",
       "      <td>unknown</td>\n",
       "      <td>single</td>\n",
       "      <td>unknown</td>\n",
       "      <td>no</td>\n",
       "      <td>1</td>\n",
       "      <td>no</td>\n",
       "      <td>no</td>\n",
       "      <td>unknown</td>\n",
       "      <td>5</td>\n",
       "      <td>may</td>\n",
       "      <td>198</td>\n",
       "      <td>1</td>\n",
       "      <td>-1</td>\n",
       "      <td>0</td>\n",
       "      <td>unknown</td>\n",
       "      <td>no</td>\n",
       "    </tr>\n",
       "    <tr>\n",
       "      <th>...</th>\n",
       "      <td>...</td>\n",
       "      <td>...</td>\n",
       "      <td>...</td>\n",
       "      <td>...</td>\n",
       "      <td>...</td>\n",
       "      <td>...</td>\n",
       "      <td>...</td>\n",
       "      <td>...</td>\n",
       "      <td>...</td>\n",
       "      <td>...</td>\n",
       "      <td>...</td>\n",
       "      <td>...</td>\n",
       "      <td>...</td>\n",
       "      <td>...</td>\n",
       "      <td>...</td>\n",
       "      <td>...</td>\n",
       "      <td>...</td>\n",
       "    </tr>\n",
       "    <tr>\n",
       "      <th>45206</th>\n",
       "      <td>51</td>\n",
       "      <td>technician</td>\n",
       "      <td>married</td>\n",
       "      <td>tertiary</td>\n",
       "      <td>no</td>\n",
       "      <td>825</td>\n",
       "      <td>no</td>\n",
       "      <td>no</td>\n",
       "      <td>cellular</td>\n",
       "      <td>17</td>\n",
       "      <td>nov</td>\n",
       "      <td>977</td>\n",
       "      <td>3</td>\n",
       "      <td>-1</td>\n",
       "      <td>0</td>\n",
       "      <td>unknown</td>\n",
       "      <td>yes</td>\n",
       "    </tr>\n",
       "    <tr>\n",
       "      <th>45207</th>\n",
       "      <td>71</td>\n",
       "      <td>retired</td>\n",
       "      <td>divorced</td>\n",
       "      <td>primary</td>\n",
       "      <td>no</td>\n",
       "      <td>1729</td>\n",
       "      <td>no</td>\n",
       "      <td>no</td>\n",
       "      <td>cellular</td>\n",
       "      <td>17</td>\n",
       "      <td>nov</td>\n",
       "      <td>456</td>\n",
       "      <td>2</td>\n",
       "      <td>-1</td>\n",
       "      <td>0</td>\n",
       "      <td>unknown</td>\n",
       "      <td>yes</td>\n",
       "    </tr>\n",
       "    <tr>\n",
       "      <th>45208</th>\n",
       "      <td>72</td>\n",
       "      <td>retired</td>\n",
       "      <td>married</td>\n",
       "      <td>secondary</td>\n",
       "      <td>no</td>\n",
       "      <td>5715</td>\n",
       "      <td>no</td>\n",
       "      <td>no</td>\n",
       "      <td>cellular</td>\n",
       "      <td>17</td>\n",
       "      <td>nov</td>\n",
       "      <td>1127</td>\n",
       "      <td>5</td>\n",
       "      <td>184</td>\n",
       "      <td>3</td>\n",
       "      <td>success</td>\n",
       "      <td>yes</td>\n",
       "    </tr>\n",
       "    <tr>\n",
       "      <th>45209</th>\n",
       "      <td>57</td>\n",
       "      <td>blue-collar</td>\n",
       "      <td>married</td>\n",
       "      <td>secondary</td>\n",
       "      <td>no</td>\n",
       "      <td>668</td>\n",
       "      <td>no</td>\n",
       "      <td>no</td>\n",
       "      <td>telephone</td>\n",
       "      <td>17</td>\n",
       "      <td>nov</td>\n",
       "      <td>508</td>\n",
       "      <td>4</td>\n",
       "      <td>-1</td>\n",
       "      <td>0</td>\n",
       "      <td>unknown</td>\n",
       "      <td>no</td>\n",
       "    </tr>\n",
       "    <tr>\n",
       "      <th>45210</th>\n",
       "      <td>37</td>\n",
       "      <td>entrepreneur</td>\n",
       "      <td>married</td>\n",
       "      <td>secondary</td>\n",
       "      <td>no</td>\n",
       "      <td>2971</td>\n",
       "      <td>no</td>\n",
       "      <td>no</td>\n",
       "      <td>cellular</td>\n",
       "      <td>17</td>\n",
       "      <td>nov</td>\n",
       "      <td>361</td>\n",
       "      <td>2</td>\n",
       "      <td>188</td>\n",
       "      <td>11</td>\n",
       "      <td>other</td>\n",
       "      <td>no</td>\n",
       "    </tr>\n",
       "  </tbody>\n",
       "</table>\n",
       "<p>45211 rows × 17 columns</p>\n",
       "</div>"
      ],
      "text/plain": [
       "       age           job   marital  education default  balance housing loan  \\\n",
       "0       58    management   married   tertiary      no     2143     yes   no   \n",
       "1       44    technician    single  secondary      no       29     yes   no   \n",
       "2       33  entrepreneur   married  secondary      no        2     yes  yes   \n",
       "3       47   blue-collar   married    unknown      no     1506     yes   no   \n",
       "4       33       unknown    single    unknown      no        1      no   no   \n",
       "...    ...           ...       ...        ...     ...      ...     ...  ...   \n",
       "45206   51    technician   married   tertiary      no      825      no   no   \n",
       "45207   71       retired  divorced    primary      no     1729      no   no   \n",
       "45208   72       retired   married  secondary      no     5715      no   no   \n",
       "45209   57   blue-collar   married  secondary      no      668      no   no   \n",
       "45210   37  entrepreneur   married  secondary      no     2971      no   no   \n",
       "\n",
       "         contact  day month  duration  campaign  pdays  previous poutcome    y  \n",
       "0        unknown    5   may       261         1     -1         0  unknown   no  \n",
       "1        unknown    5   may       151         1     -1         0  unknown   no  \n",
       "2        unknown    5   may        76         1     -1         0  unknown   no  \n",
       "3        unknown    5   may        92         1     -1         0  unknown   no  \n",
       "4        unknown    5   may       198         1     -1         0  unknown   no  \n",
       "...          ...  ...   ...       ...       ...    ...       ...      ...  ...  \n",
       "45206   cellular   17   nov       977         3     -1         0  unknown  yes  \n",
       "45207   cellular   17   nov       456         2     -1         0  unknown  yes  \n",
       "45208   cellular   17   nov      1127         5    184         3  success  yes  \n",
       "45209  telephone   17   nov       508         4     -1         0  unknown   no  \n",
       "45210   cellular   17   nov       361         2    188        11    other   no  \n",
       "\n",
       "[45211 rows x 17 columns]"
      ]
     },
     "execution_count": 106,
     "metadata": {},
     "output_type": "execute_result"
    }
   ],
   "source": [
    "df_bank = pd.read_csv('bank-full.csv', sep = ';')\n",
    "df_bank"
   ]
  },
  {
   "cell_type": "code",
   "execution_count": 126,
   "id": "31548db7-c6f1-4c52-9e96-c395fd56fa7c",
   "metadata": {},
   "outputs": [],
   "source": [
    "df_no = df_bank.loc[df_bank['y'] == 'no']\n",
    "df_yes = df_bank.loc[df_bank['y'] != 'no']"
   ]
  },
  {
   "cell_type": "code",
   "execution_count": 127,
   "id": "6c134f95-2c80-440a-9b9a-51da096c346c",
   "metadata": {},
   "outputs": [
    {
     "data": {
      "text/plain": [
       "(39922, 17)"
      ]
     },
     "execution_count": 127,
     "metadata": {},
     "output_type": "execute_result"
    }
   ],
   "source": [
    "df_no.shape"
   ]
  },
  {
   "cell_type": "code",
   "execution_count": 128,
   "id": "ee6c890b-4b6a-4047-9ae1-dee555afcf49",
   "metadata": {},
   "outputs": [
    {
     "data": {
      "text/plain": [
       "(5289, 17)"
      ]
     },
     "execution_count": 128,
     "metadata": {},
     "output_type": "execute_result"
    }
   ],
   "source": [
    "df_yes.shape"
   ]
  },
  {
   "cell_type": "code",
   "execution_count": 129,
   "id": "42dfd8fa-74ec-46f3-8299-de61f1448985",
   "metadata": {},
   "outputs": [
    {
     "data": {
      "text/html": [
       "<div>\n",
       "<style scoped>\n",
       "    .dataframe tbody tr th:only-of-type {\n",
       "        vertical-align: middle;\n",
       "    }\n",
       "\n",
       "    .dataframe tbody tr th {\n",
       "        vertical-align: top;\n",
       "    }\n",
       "\n",
       "    .dataframe thead th {\n",
       "        text-align: right;\n",
       "    }\n",
       "</style>\n",
       "<table border=\"1\" class=\"dataframe\">\n",
       "  <thead>\n",
       "    <tr style=\"text-align: right;\">\n",
       "      <th></th>\n",
       "      <th>y</th>\n",
       "      <th>campaign</th>\n",
       "    </tr>\n",
       "  </thead>\n",
       "  <tbody>\n",
       "    <tr>\n",
       "      <th>0</th>\n",
       "      <td>no</td>\n",
       "      <td>2.846350</td>\n",
       "    </tr>\n",
       "    <tr>\n",
       "      <th>1</th>\n",
       "      <td>yes</td>\n",
       "      <td>2.141047</td>\n",
       "    </tr>\n",
       "  </tbody>\n",
       "</table>\n",
       "</div>"
      ],
      "text/plain": [
       "     y  campaign\n",
       "0   no  2.846350\n",
       "1  yes  2.141047"
      ]
     },
     "execution_count": 129,
     "metadata": {},
     "output_type": "execute_result"
    }
   ],
   "source": [
    "df_grouped = df_bank.groupby(['y']).agg({'campaign' : 'mean'}).reset_index()\n",
    "df_grouped"
   ]
  },
  {
   "cell_type": "code",
   "execution_count": 131,
   "id": "9b86d086-845c-43b8-a48c-6c22c2d3b429",
   "metadata": {},
   "outputs": [
    {
     "data": {
      "image/png": "[encoded data removed]",
      "text/plain": [
       "<Figure size 576x360 with 1 Axes>"
      ]
     },
     "metadata": {
      "needs_background": "light"
     },
     "output_type": "display_data"
    }
   ],
   "source": [
    "plt.figure(figsize = (8,5))\n",
    "sns.barplot(x = 'y', y = 'campaign', data = df_grouped);"
   ]
  },
  {
   "cell_type": "code",
   "execution_count": 132,
   "id": "82eeda0c-3ca1-468b-ba52-de0996b101df",
   "metadata": {},
   "outputs": [
    {
     "name": "stdout",
     "output_type": "stream",
     "text": [
      "Nilai Pvalue yang didapat sebesar 1.0123473642096297e-54\n",
      "H1: Jumlah campaign mempengaruhi customer untuk membuka deposit\n"
     ]
    }
   ],
   "source": [
    "ttest = st.ttest_ind(df_no['campaign'], df_yes['campaign'])\n",
    "\n",
    "print('Nilai Pvalue yang didapat sebesar', ttest.pvalue)\n",
    "\n",
    "if ttest.pvalue >= 0.05:\n",
    "    print('H0: Jumlah campaign tidak mempengaruhi customer untuk membuka deposit')\n",
    "else:\n",
    "    print('H1: Jumlah campaign mempengaruhi customer untuk membuka deposit')"
   ]
  }
 ],
 "metadata": {
  "kernelspec": {
   "display_name": "Python 3 (ipykernel)",
   "language": "python",
   "name": "python3"
  },
  "language_info": {
   "codemirror_mode": {
    "name": "ipython",
    "version": 3
   },
   "file_extension": ".py",
   "mimetype": "text/x-python",
   "name": "python",
   "nbconvert_exporter": "python",
   "pygments_lexer": "ipython3",
   "version": "3.9.7"
  }
 },
 "nbformat": 4,
 "nbformat_minor": 5
}
